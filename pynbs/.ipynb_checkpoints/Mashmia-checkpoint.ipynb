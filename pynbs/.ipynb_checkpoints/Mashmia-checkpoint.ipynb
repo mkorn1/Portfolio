{
 "cells": [
  {
   "cell_type": "markdown",
   "id": "6629d033",
   "metadata": {},
   "source": [
    "# Mashmia\n",
    "\n",
    "### Challenge\n",
    "If I gave you a new, exotic food to taste, but you just finished a 10 course meal, how likely are you to enjoy it? Or be disgusted by it? Music is served to us based on taste. \n",
    "\n",
    "### Solution\n",
    "What we really need is music based on mood. I tested this with users. I designed, iterated, and deployed a website that connects with Spotify API and serves you music based on your mood. \n",
    "\n",
    "Gained 100s of users and generated 1000s of playlists. Tools used: AWS EC2, Flask, SQL, SQL-Alchemy, Mixpanel, Spotify API, Spotipy\n",
    "\n"
   ]
  },
  {
   "cell_type": "code",
   "execution_count": 7,
   "id": "5c041b6b",
   "metadata": {},
   "outputs": [
    {
     "data": {
      "text/html": [
       "<iframe src=\"https://mashmia.com\" width=\"100%\" height=\"1000px\"></iframe>\n"
      ],
      "text/plain": [
       "<IPython.core.display.HTML object>"
      ]
     },
     "metadata": {},
     "output_type": "display_data"
    }
   ],
   "source": [
    "%%html\n",
    "<iframe src=\"https://mashmia.com\" width=\"100%\" height=\"1000px\"></iframe>\n"
   ]
  },
  {
   "cell_type": "code",
   "execution_count": null,
   "id": "b6cc4826",
   "metadata": {},
   "outputs": [],
   "source": [
    "\n"
   ]
  }
 ],
 "metadata": {
  "kernelspec": {
   "display_name": "Python 3 (ipykernel)",
   "language": "python",
   "name": "python3"
  },
  "language_info": {
   "codemirror_mode": {
    "name": "ipython",
    "version": 3
   },
   "file_extension": ".py",
   "mimetype": "text/x-python",
   "name": "python",
   "nbconvert_exporter": "python",
   "pygments_lexer": "ipython3",
   "version": "3.11.1"
  }
 },
 "nbformat": 4,
 "nbformat_minor": 5
}
